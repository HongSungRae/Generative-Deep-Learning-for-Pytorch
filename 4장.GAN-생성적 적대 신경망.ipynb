{
 "cells": [
  {
   "cell_type": "markdown",
   "metadata": {},
   "source": [
    "# 4장.GAN-생성적 적대 신경망\n",
    "<p align=\"center\">\n",
    "    <img src=\"https://dukakis.org/wp-content/uploads/sites/15/1-5-1-500x356.jpg\")\n",
    "<!-- ![](https://dukakis.org/wp-content/uploads/sites/15/1-5-1-500x356.jpg) -->\n",
    "</p>\n",
    "GAN의 창시자 Ian Goodfellow </p>\n",
    "출처 : https://dukakis.org/about/aiws-standards-and-practice-committee/ian-goodfellow-2/"
   ]
  },
  {
   "cell_type": "markdown",
   "metadata": {},
   "source": [
    "- GAN은 2016는 NIPS 듀토리얼에서 이안 굿펠로우에 의해서 처음 발표되었음\n",
    "- 이후 수 많은 생성 알고리즘이 파생됨\n",
    "- GAN을 \"간\" 또는 \"갠\" 이라고 읽는데, 나는 \"갠\" 이라 하겠다"
   ]
  },
  {
   "cell_type": "markdown",
   "metadata": {},
   "source": [
    "## 4.1 애니멀GAN\n",
    "### 4.1.1 Task 소개\n",
    "- Discriminator는 animalGAN 사진을 분별하고 Generator는 animalGAN 사진을 인위적으로 만들고싶어한다.\n",
    "- 원본 animalGAN 사진 64장이 있다고 가정하자\n",
    "    - D는 원본 64(class 1)장과 G가 랜덤하게 만들어낸 64장(class 0)을 보면서 진짜 사진을 학습한다.\n",
    "    - 동시에 G는 새로운 사진 64장을 만들어내면서 D를 속이려한다."
   ]
  },
  {
   "cell_type": "markdown",
   "metadata": {},
   "source": [
    "### 4.1.2 camel(animalGAN) data 받고 확인하기\n",
    "- animalGAN data를 다운로드받자 [[링크]](http://bit.ly/30HyNqg)\n",
    "    1. camel.npy를 다운로드한다\n",
    "    2. 이 ipynb이 있는 dir인 .에 ./data/camel folder를 만들고 거기에 다운로드받은 npy file을 넣으세요"
   ]
  },
  {
   "cell_type": "code",
   "execution_count": 1,
   "metadata": {},
   "outputs": [
    {
     "data": {
      "text/plain": [
       "(121399, 784)"
      ]
     },
     "execution_count": 1,
     "metadata": {},
     "output_type": "execute_result"
    }
   ],
   "source": [
    "import numpy as np\n",
    "\n",
    "camel = np.load('./data/camel/full_numpy_bitmap_camel.npy')\n",
    "camel.shape"
   ]
  },
  {
   "cell_type": "code",
   "execution_count": 2,
   "metadata": {},
   "outputs": [
    {
     "data": {
      "text/plain": [
       "True"
      ]
     },
     "execution_count": 2,
     "metadata": {},
     "output_type": "execute_result"
    }
   ],
   "source": [
    "784 == 28*28 # 아하! 28by 28 image를 flatten해서 저장했고 이런 이미지가 121399장 있구나~"
   ]
  },
  {
   "cell_type": "code",
   "execution_count": 3,
   "metadata": {},
   "outputs": [
    {
     "name": "stdout",
     "output_type": "stream",
     "text": [
      "(10, 28, 28)\n"
     ]
    }
   ],
   "source": [
    "import matplotlib.pyplot as plt\n",
    "\n",
    "images = camel[0:10]\n",
    "images = np.reshape(images, (-1,28,28))\n",
    "print(images.shape)"
   ]
  },
  {
   "cell_type": "code",
   "execution_count": 4,
   "metadata": {},
   "outputs": [
    {
     "data": {
      "image/png": "[encoded data removed]",
      "text/plain": [
       "<Figure size 1440x720 with 10 Axes>"
      ]
     },
     "metadata": {
      "needs_background": "light"
     },
     "output_type": "display_data"
    }
   ],
   "source": [
    "plt.figure(figsize=(20,10))\n",
    "\n",
    "for i in range(10):\n",
    "    plt.subplot(2,5,i+1)\n",
    "    plt.imshow(images[i], cmap='gray', interpolation='none')"
   ]
  },
  {
   "cell_type": "markdown",
   "metadata": {},
   "source": [
    "## 4.2 첫 번째 GAN"
   ]
  },
  {
   "cell_type": "markdown",
   "metadata": {},
   "source": [
    "### 4.2.1 판별자"
   ]
  },
  {
   "cell_type": "code",
   "execution_count": 5,
   "metadata": {},
   "outputs": [
    {
     "name": "stdout",
     "output_type": "stream",
     "text": [
      "torch.Size([10, 1])\n"
     ]
    }
   ],
   "source": [
    "import torch\n",
    "import torch.nn as nn\n",
    "\n",
    "class Discriminator(nn.Module):\n",
    "    def __init__(self, size=28):\n",
    "        super().__init__()\n",
    "        self.size = size\n",
    "        self.layers = nn.Sequential(nn.Conv2d(1,64,5,2,2),\n",
    "                                    nn.ReLU(),\n",
    "                                    nn.Dropout2d(p=0.4),\n",
    "                                    nn.Conv2d(64,64,5,2,2),\n",
    "                                    nn.ReLU(),\n",
    "                                    nn.Dropout(p=0.4),\n",
    "                                    nn.Conv2d(64,128,5,2,2),\n",
    "                                    nn.ReLU(),\n",
    "                                    nn.Dropout(p=0.4),\n",
    "                                    nn.Conv2d(128,128,5,1,2),\n",
    "                                    nn.ReLU(),\n",
    "                                    nn.Dropout(p=0.4)\n",
    "                                    )\n",
    "        self.dense = nn.Linear(2048, 1)\n",
    "    \n",
    "    def forward(self, x):\n",
    "        x = self.layers(x)\n",
    "        x = x.view(x.shape[0],-1)\n",
    "        x = self.dense(x)\n",
    "        return x\n",
    "\n",
    "\n",
    "if __name__ == '__main__':\n",
    "    x = torch.zeros(10,1,28,28)\n",
    "    D = Discriminator()\n",
    "    y_pred = D(x)\n",
    "    print(y_pred.shape)"
   ]
  },
  {
   "cell_type": "code",
   "execution_count": 7,
   "metadata": {},
   "outputs": [
    {
     "name": "stdout",
     "output_type": "stream",
     "text": [
      "----------------------------------------------------------------\n",
      "        Layer (type)               Output Shape         Param #\n",
      "================================================================\n",
      "            Conv2d-1           [-1, 64, 14, 14]           1,664\n",
      "              ReLU-2           [-1, 64, 14, 14]               0\n",
      "         Dropout2d-3           [-1, 64, 14, 14]               0\n",
      "            Conv2d-4             [-1, 64, 7, 7]         102,464\n",
      "              ReLU-5             [-1, 64, 7, 7]               0\n",
      "           Dropout-6             [-1, 64, 7, 7]               0\n",
      "            Conv2d-7            [-1, 128, 4, 4]         204,928\n",
      "              ReLU-8            [-1, 128, 4, 4]               0\n",
      "           Dropout-9            [-1, 128, 4, 4]               0\n",
      "           Conv2d-10            [-1, 128, 4, 4]         409,728\n",
      "             ReLU-11            [-1, 128, 4, 4]               0\n",
      "          Dropout-12            [-1, 128, 4, 4]               0\n",
      "           Linear-13                    [-1, 1]           2,049\n",
      "================================================================\n",
      "Total params: 720,833\n",
      "Trainable params: 720,833\n",
      "Non-trainable params: 0\n",
      "----------------------------------------------------------------\n",
      "Input size (MB): 0.00\n",
      "Forward/backward pass size (MB): 0.45\n",
      "Params size (MB): 2.75\n",
      "Estimated Total Size (MB): 3.21\n",
      "----------------------------------------------------------------\n"
     ]
    }
   ],
   "source": [
    "from torchsummary import summary\n",
    "\n",
    "D = Discriminator()\n",
    "summary(D.cuda(0), (1,28,28))\n",
    "del D"
   ]
  },
  {
   "cell_type": "markdown",
   "metadata": {},
   "source": [
    "### 4.2.2 생성자"
   ]
  },
  {
   "cell_type": "code",
   "execution_count": 8,
   "metadata": {},
   "outputs": [
    {
     "name": "stdout",
     "output_type": "stream",
     "text": [
      "torch.Size([10, 1, 28, 28])\n"
     ]
    }
   ],
   "source": [
    "class Generator(nn.Module):\n",
    "    def __init__(self):\n",
    "        super().__init__()\n",
    "        self.layers_1 = nn.Sequential(nn.Linear(100, 3136),\n",
    "                                      nn.BatchNorm1d(3136),\n",
    "                                      nn.ReLU())\n",
    "        self.layers_2 = nn.Sequential(nn.Upsample(14),\n",
    "                                      nn.Conv2d(64,128,5,1,2),\n",
    "                                      nn.BatchNorm2d(128),\n",
    "                                      nn.ReLU(),\n",
    "                                      nn.Upsample(28),\n",
    "                                      nn.Conv2d(128,64,5,1,2),\n",
    "                                      nn.BatchNorm2d(64),\n",
    "                                      nn.ReLU(),\n",
    "                                      nn.Conv2d(64,64,5,1,2),\n",
    "                                      nn.BatchNorm2d(64),\n",
    "                                      nn.ReLU(),\n",
    "                                      nn.Conv2d(64,1,5,1,2),\n",
    "                                      nn.ReLU())\n",
    "    \n",
    "    def forward(self, x):\n",
    "        x = self.layers_1(x)\n",
    "        x = torch.reshape(x,(x.shape[0], 64, 7, 7))\n",
    "        x = self.layers_2(x)\n",
    "        return x\n",
    "\n",
    "\n",
    "if __name__ == '__main__':\n",
    "    x = torch.zeros((10,100))\n",
    "    G = Generator()\n",
    "    generated = G(x)\n",
    "    print(generated.shape)"
   ]
  },
  {
   "cell_type": "code",
   "execution_count": 9,
   "metadata": {},
   "outputs": [
    {
     "name": "stdout",
     "output_type": "stream",
     "text": [
      "----------------------------------------------------------------\n",
      "        Layer (type)               Output Shape         Param #\n",
      "================================================================\n",
      "            Linear-1                 [-1, 3136]         316,736\n",
      "       BatchNorm1d-2                 [-1, 3136]           6,272\n",
      "              ReLU-3                 [-1, 3136]               0\n",
      "          Upsample-4           [-1, 64, 14, 14]               0\n",
      "            Conv2d-5          [-1, 128, 14, 14]         204,928\n",
      "       BatchNorm2d-6          [-1, 128, 14, 14]             256\n",
      "              ReLU-7          [-1, 128, 14, 14]               0\n",
      "          Upsample-8          [-1, 128, 28, 28]               0\n",
      "            Conv2d-9           [-1, 64, 28, 28]         204,864\n",
      "      BatchNorm2d-10           [-1, 64, 28, 28]             128\n",
      "             ReLU-11           [-1, 64, 28, 28]               0\n",
      "           Conv2d-12           [-1, 64, 28, 28]         102,464\n",
      "      BatchNorm2d-13           [-1, 64, 28, 28]             128\n",
      "             ReLU-14           [-1, 64, 28, 28]               0\n",
      "           Conv2d-15            [-1, 1, 28, 28]           1,601\n",
      "             ReLU-16            [-1, 1, 28, 28]               0\n",
      "================================================================\n",
      "Total params: 837,377\n",
      "Trainable params: 837,377\n",
      "Non-trainable params: 0\n",
      "----------------------------------------------------------------\n",
      "Input size (MB): 0.00\n",
      "Forward/backward pass size (MB): 3.82\n",
      "Params size (MB): 3.19\n",
      "Estimated Total Size (MB): 7.01\n",
      "----------------------------------------------------------------\n"
     ]
    }
   ],
   "source": [
    "G = Generator()\n",
    "summary(G.cuda(0), (100,))\n",
    "del G"
   ]
  },
  {
   "cell_type": "markdown",
   "metadata": {},
   "source": [
    "### 4.2.3 GAN 훈련\n",
    "1. 먼저 판별자 D를 훈련하는 모델을 만든다(학습한다)\n",
    "2. G는 랜덤한 인풋을 받아 가짜 이미지를 만들어 D를 속여야한다. 속이는 방향으로 G를 학습한다. 이때, D의 parameter가 업데이트되지 않아야한다.\n",
    "3. 손실 함수는 판별자 D의 출력과 타깃 1사이의 CrossEntropy"
   ]
  },
  {
   "cell_type": "code",
   "execution_count": 10,
   "metadata": {},
   "outputs": [
    {
     "data": {
      "text/plain": [
       "(10000, 784)"
      ]
     },
     "execution_count": 10,
     "metadata": {},
     "output_type": "execute_result"
    }
   ],
   "source": [
    "# 데이터 준비\n",
    "# 10000개만 쓰겠다. 너무 많다\n",
    "\n",
    "images = camel[0:10000]\n",
    "images.shape"
   ]
  },
  {
   "cell_type": "code",
   "execution_count": null,
   "metadata": {},
   "outputs": [],
   "source": []
  },
  {
   "cell_type": "code",
   "execution_count": null,
   "metadata": {},
   "outputs": [],
   "source": [
    "# 학습 변수\n",
    "epochs = 20\n",
    "lr = 1e-3\n",
    "criterion = torch.nn.CrossEntropyLoss()\n",
    "optimizer = torch.optim.Adam(params=VAE.parameters(),lr=lr)"
   ]
  },
  {
   "cell_type": "code",
   "execution_count": null,
   "metadata": {},
   "outputs": [],
   "source": [
    "from tqdm import tqdm\n",
    "\n",
    "def train(model, train_loader, criterion, optimizer, epoch, epochs):\n",
    "    model.train()\n",
    "    train_loss = 0\n",
    "    for i, (image, label) in tqdm(enumerate(train_loader)):\n",
    "        image, label = image.cuda(), label.cuda()\n",
    "        image_recon, mu, log_var = model(image)\n",
    "\n",
    "        loss = criterion(image_recon.cuda(), image, mu, log_var)\n",
    "\n",
    "        optimizer.zero_grad()\n",
    "        loss.backward()\n",
    "        optimizer.step()\n",
    "\n",
    "        train_loss += loss.item()\n",
    "    print(f'[{epoch+1}/{epochs}] training loss : {train_loss:.2f}')\n",
    "\n",
    "# 학습\n",
    "if __name__ == '__main__':\n",
    "    for epoch in range(epochs):\n",
    "        train(VAE, train_loader, criterion, optimizer, epoch, epochs)"
   ]
  },
  {
   "cell_type": "markdown",
   "metadata": {},
   "source": [
    "## 4.3 GAN의 도전 과제"
   ]
  },
  {
   "cell_type": "markdown",
   "metadata": {},
   "source": [
    "### 4.3.1 진동하는 Loss"
   ]
  },
  {
   "cell_type": "code",
   "execution_count": null,
   "metadata": {},
   "outputs": [],
   "source": []
  },
  {
   "cell_type": "markdown",
   "metadata": {},
   "source": [
    "### 4.3.2 Mode Collapse"
   ]
  },
  {
   "cell_type": "code",
   "execution_count": null,
   "metadata": {},
   "outputs": [],
   "source": []
  },
  {
   "cell_type": "markdown",
   "metadata": {},
   "source": [
    "### 4.3.2 손실함수 최적화 != 실제 생성 품질"
   ]
  },
  {
   "cell_type": "code",
   "execution_count": null,
   "metadata": {},
   "outputs": [],
   "source": []
  },
  {
   "cell_type": "markdown",
   "metadata": {},
   "source": [
    "### 4.3.3 하이퍼파라미터\n",
    "- GAN은 하이퍼파라미터 세팅에 너무 민감하다\n",
    "- 네트워크의 시시콜콜한 구조부터 배치, LR, Latent space의 크기, 커널 크기... 등등 뭐 하나라도 맘에 안들면 제대로 안한다"
   ]
  },
  {
   "cell_type": "markdown",
   "metadata": {},
   "source": [
    "## 4.4 WGAN - 와서스테인 GAN"
   ]
  }
 ],
 "metadata": {
  "kernelspec": {
   "display_name": "Python 3.9.6 64-bit",
   "language": "python",
   "name": "python3"
  },
  "language_info": {
   "codemirror_mode": {
    "name": "ipython",
    "version": 3
   },
   "file_extension": ".py",
   "mimetype": "text/x-python",
   "name": "python",
   "nbconvert_exporter": "python",
   "pygments_lexer": "ipython3",
   "version": "3.9.6"
  },
  "orig_nbformat": 4,
  "vscode": {
   "interpreter": {
    "hash": "a482f69b4e114aa13bb0e473b2284b280dd70edcc84c62a586d98c69b1f3a46d"
   }
  }
 },
 "nbformat": 4,
 "nbformat_minor": 2
}
